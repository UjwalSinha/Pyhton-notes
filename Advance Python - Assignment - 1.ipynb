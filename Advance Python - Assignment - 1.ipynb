{
 "cells": [
  {
   "cell_type": "code",
   "execution_count": 8,
   "metadata": {},
   "outputs": [],
   "source": [
    "#problem statment1:\n",
    "\n",
    "#City Names: \n",
    "#Write a function called city_country() that takes in the name\n",
    "#of a city and its country. The function should return a string formatted like this:\n",
    "#\"Santiago, Chile\"\n",
    "#Call your function with at least three city-country pairs, and print the\n",
    "#values that are returned.\n",
    "\n",
    "def city_country(city, country):\n",
    "    print(f\" {city}, {country}\")"
   ]
  },
  {
   "cell_type": "code",
   "execution_count": 9,
   "metadata": {},
   "outputs": [
    {
     "name": "stdout",
     "output_type": "stream",
     "text": [
      " Santiago, chile\n"
     ]
    }
   ],
   "source": [
    "city_country(\"Santiago\", 'chile')"
   ]
  },
  {
   "cell_type": "code",
   "execution_count": 10,
   "metadata": {},
   "outputs": [
    {
     "name": "stdout",
     "output_type": "stream",
     "text": [
      " Hyderabad, India\n"
     ]
    }
   ],
   "source": [
    "city_country('Hyderabad', 'India')"
   ]
  },
  {
   "cell_type": "code",
   "execution_count": 11,
   "metadata": {},
   "outputs": [
    {
     "name": "stdout",
     "output_type": "stream",
     "text": [
      " california, united states\n"
     ]
    }
   ],
   "source": [
    "city_country('california', 'united states')"
   ]
  },
  {
   "cell_type": "code",
   "execution_count": 14,
   "metadata": {},
   "outputs": [],
   "source": [
    "# Problem statement 2: \n",
    "# Sandwiches: Write a function that accepts a list of items a person wants on a sandwich. \n",
    "# The function should have one parameter that collects as many items as the function call provides, and it should print a summary of the sandwich that’s being ordered.\n",
    "# Call the function three times, using a different number of arguments each time.\n",
    "\n",
    "def sandwich_items(*items):\n",
    "    print(f\" {items}\")"
   ]
  },
  {
   "cell_type": "code",
   "execution_count": 15,
   "metadata": {},
   "outputs": [
    {
     "name": "stdout",
     "output_type": "stream",
     "text": [
      " ('onion', 'tomato', 'chilly')\n"
     ]
    }
   ],
   "source": [
    "sandwich_items('onion', 'tomato', 'chilly')"
   ]
  },
  {
   "cell_type": "code",
   "execution_count": 16,
   "metadata": {},
   "outputs": [
    {
     "name": "stdout",
     "output_type": "stream",
     "text": [
      " ('mayo', 'schezwan', 'ketchup')\n"
     ]
    }
   ],
   "source": [
    "sandwich_items('mayo', 'schezwan', 'ketchup')"
   ]
  },
  {
   "cell_type": "code",
   "execution_count": 17,
   "metadata": {},
   "outputs": [
    {
     "name": "stdout",
     "output_type": "stream",
     "text": [
      " ('bread', 'butter', 'jam')\n"
     ]
    }
   ],
   "source": [
    "sandwich_items('bread', 'butter', 'jam')"
   ]
  },
  {
   "cell_type": "code",
   "execution_count": 18,
   "metadata": {},
   "outputs": [],
   "source": [
    "# problem statment 3:\n",
    "\n",
    "# 9-1. Restaurant: Make a class called Restaurant. The __init__() method for\n",
    "# Restaurant should store two attributes: a restaurant_name and a cuisine_type.\n",
    "# Make a method called describe_restaurant() that prints these two pieces of\n",
    "# information, and a method called open_restaurant() that prints a message indicating that the restaurant is open.\n",
    "# Make an instance called restaurant from your class. Print the two attributes individually, and then call both methods.\n"
   ]
  },
  {
   "cell_type": "code",
   "execution_count": 19,
   "metadata": {},
   "outputs": [],
   "source": [
    "class Restaurant:\n",
    "    \n",
    "    def __init__(self, restaurant_name, cuisine_type):\n",
    "        self.restaurant_name = restaurant_name\n",
    "        self.cuisine_type = cuisine_type\n",
    "        \n",
    "    def describe_restaurant(self):\n",
    "        print(f\" This is {self.restaurant_name} Restaurant and it offers {self.cuisine_type} cuisine\")\n",
    "        \n",
    "    def open_restaurant(self):\n",
    "        print(f\" The {self.restaurant_name} Restaurant is open\")"
   ]
  },
  {
   "cell_type": "code",
   "execution_count": 22,
   "metadata": {},
   "outputs": [],
   "source": [
    "x = Restaurant('Bawarchi', 'Indian')"
   ]
  },
  {
   "cell_type": "code",
   "execution_count": 24,
   "metadata": {},
   "outputs": [
    {
     "name": "stdout",
     "output_type": "stream",
     "text": [
      " This is Bawarchi Restaurant and it offers Indian cuisine\n"
     ]
    }
   ],
   "source": [
    "x.describe_restaurant()"
   ]
  },
  {
   "cell_type": "code",
   "execution_count": 25,
   "metadata": {},
   "outputs": [
    {
     "name": "stdout",
     "output_type": "stream",
     "text": [
      " The Bawarchi Restaurant is open\n"
     ]
    }
   ],
   "source": [
    "x.open_restaurant()"
   ]
  },
  {
   "cell_type": "code",
   "execution_count": 26,
   "metadata": {},
   "outputs": [],
   "source": [
    "# 9-2. Three Restaurants: Start with your class from Exercise 9-1. Create three\n",
    "# different instances from the class, and call describe_restaurant() for each\n",
    "# instance."
   ]
  },
  {
   "cell_type": "code",
   "execution_count": 27,
   "metadata": {},
   "outputs": [],
   "source": [
    "a = Restaurant('Pista house', 'Mughlai')"
   ]
  },
  {
   "cell_type": "code",
   "execution_count": 29,
   "metadata": {},
   "outputs": [
    {
     "name": "stdout",
     "output_type": "stream",
     "text": [
      " This is Pista house Restaurant and it offers Mughlai cuisine\n"
     ]
    }
   ],
   "source": [
    "a.describe_restaurant()"
   ]
  },
  {
   "cell_type": "code",
   "execution_count": 30,
   "metadata": {},
   "outputs": [],
   "source": [
    "a = Restaurant('Suprabhat', 'south india')"
   ]
  },
  {
   "cell_type": "code",
   "execution_count": 31,
   "metadata": {},
   "outputs": [
    {
     "name": "stdout",
     "output_type": "stream",
     "text": [
      " This is Suprabhat Restaurant and it offers south india cuisine\n"
     ]
    }
   ],
   "source": [
    "a.describe_restaurant()"
   ]
  },
  {
   "cell_type": "code",
   "execution_count": 32,
   "metadata": {},
   "outputs": [],
   "source": [
    "a = Restaurant('Shahgouse', 'Continental')"
   ]
  },
  {
   "cell_type": "code",
   "execution_count": 33,
   "metadata": {},
   "outputs": [
    {
     "name": "stdout",
     "output_type": "stream",
     "text": [
      " This is Shahgouse Restaurant and it offers Continental cuisine\n"
     ]
    }
   ],
   "source": [
    "a.describe_restaurant()"
   ]
  },
  {
   "cell_type": "code",
   "execution_count": 34,
   "metadata": {},
   "outputs": [],
   "source": [
    "# 9-3. Users: Make a class called User. Create two attributes called first_name\n",
    "# and last_name, and then create several other attributes that are typically stored\n",
    "# in a user profile. Make a method called describe_user() that prints a summary\n",
    "# of the user’s information. Make another method called greet_user() that prints\n",
    "# a personalized greeting to the user.\n",
    "# Create several instances representing different users, and call both methods\n",
    "# for each user."
   ]
  },
  {
   "cell_type": "code",
   "execution_count": 53,
   "metadata": {},
   "outputs": [],
   "source": [
    "class user:\n",
    "    \n",
    "    def create_user(self, first_name, last_name, age, sex, location):\n",
    "        self.first_name = first_name\n",
    "        self.last_name = last_name\n",
    "        self.age = age\n",
    "        self.sex = sex\n",
    "        self.location = location\n",
    "        \n",
    "    def describe_user(self):\n",
    "        print(f\" Here are the user details, {self.first_name.title()} {self.last_name.title()} of age {self.age}, sex - {self.sex.title()}, resides in {self.location.title()}\")\n",
    "        \n",
    "    def greet_user(self):\n",
    "        print(f\" Hello, {self.first_name.title()} {self.last_name.title()}\")\n",
    "        "
   ]
  },
  {
   "cell_type": "code",
   "execution_count": 58,
   "metadata": {},
   "outputs": [],
   "source": [
    "a = user()"
   ]
  },
  {
   "cell_type": "code",
   "execution_count": 59,
   "metadata": {},
   "outputs": [],
   "source": [
    "a.create_user('ujwal', 'sinha', 30, 'male', 'hyderabad')"
   ]
  },
  {
   "cell_type": "code",
   "execution_count": 60,
   "metadata": {},
   "outputs": [
    {
     "name": "stdout",
     "output_type": "stream",
     "text": [
      " Here are the user details, Ujwal Sinha of age 30, sex - Male, resides in Hyderabad\n"
     ]
    }
   ],
   "source": [
    "a.describe_user()"
   ]
  },
  {
   "cell_type": "code",
   "execution_count": 61,
   "metadata": {},
   "outputs": [
    {
     "name": "stdout",
     "output_type": "stream",
     "text": [
      " Hello, Ujwal Sinha\n"
     ]
    }
   ],
   "source": [
    "a.greet_user()"
   ]
  },
  {
   "cell_type": "code",
   "execution_count": 62,
   "metadata": {},
   "outputs": [],
   "source": [
    "b = user()"
   ]
  },
  {
   "cell_type": "code",
   "execution_count": 63,
   "metadata": {},
   "outputs": [],
   "source": [
    "b.create_user('faiyaz', 'shaik', 32, 'male', 'secunderabad')"
   ]
  },
  {
   "cell_type": "code",
   "execution_count": 64,
   "metadata": {},
   "outputs": [
    {
     "name": "stdout",
     "output_type": "stream",
     "text": [
      " Here are the user details, Faiyaz Shaik of age 32, sex - Male, resides in Secunderabad\n"
     ]
    }
   ],
   "source": [
    "b.describe_user()"
   ]
  },
  {
   "cell_type": "code",
   "execution_count": 65,
   "metadata": {},
   "outputs": [
    {
     "name": "stdout",
     "output_type": "stream",
     "text": [
      " Hello, Faiyaz Shaik\n"
     ]
    }
   ],
   "source": [
    "b.greet_user()"
   ]
  },
  {
   "cell_type": "code",
   "execution_count": null,
   "metadata": {},
   "outputs": [],
   "source": []
  }
 ],
 "metadata": {
  "kernelspec": {
   "display_name": "Python 3",
   "language": "python",
   "name": "python3"
  },
  "language_info": {
   "codemirror_mode": {
    "name": "ipython",
    "version": 3
   },
   "file_extension": ".py",
   "mimetype": "text/x-python",
   "name": "python",
   "nbconvert_exporter": "python",
   "pygments_lexer": "ipython3",
   "version": "3.7.4"
  }
 },
 "nbformat": 4,
 "nbformat_minor": 2
}
