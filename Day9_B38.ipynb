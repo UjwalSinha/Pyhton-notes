{
 "cells": [
  {
   "cell_type": "code",
   "execution_count": 1,
   "metadata": {},
   "outputs": [],
   "source": [
    "# Introduction to conditional statement"
   ]
  },
  {
   "cell_type": "code",
   "execution_count": 2,
   "metadata": {},
   "outputs": [],
   "source": [
    "#syntax:\n",
    "# if conditional statement:\n",
    "#    do something\n",
    "# else:\n",
    "#    do something Else"
   ]
  },
  {
   "cell_type": "code",
   "execution_count": 3,
   "metadata": {},
   "outputs": [],
   "source": [
    "# req - You have written an exam for a total score of 100 and if your score is above or equal to 60 then you will be considered as PASS in the exam."
   ]
  },
  {
   "cell_type": "code",
   "execution_count": 7,
   "metadata": {},
   "outputs": [
    {
     "name": "stdout",
     "output_type": "stream",
     "text": [
      "You have passed the examination\n"
     ]
    }
   ],
   "source": [
    "score = 60\n",
    "if score>=60:\n",
    "    print ('You have passed the examination')\n",
    "else:\n",
    "    print('You have failed the examnination \\nBetter luck next time!' )"
   ]
  },
  {
   "cell_type": "code",
   "execution_count": 31,
   "metadata": {},
   "outputs": [],
   "source": [
    "# req 2\n",
    "# Score is less than 35 - Failed\n",
    "# Score is in between 35-59 - Second Class\n",
    "# Score is above 60 - Passed with first class\n",
    "# Score is above 70 - Passed with Distinction"
   ]
  },
  {
   "cell_type": "code",
   "execution_count": 30,
   "metadata": {},
   "outputs": [
    {
     "name": "stdout",
     "output_type": "stream",
     "text": [
      "Congatratulations! You have passed the examination with Distinction\n"
     ]
    }
   ],
   "source": [
    "myscore = 100\n",
    "if myscore<35:\n",
    "    print('You have failed the examnination \\nBetter luck next time!')\n",
    "elif myscore<60:\n",
    "    print('Congatratulations! You have passed the examination in Second class')\n",
    "elif myscore<70:\n",
    "    print('Congatratulations! You have passed the examination in First class')\n",
    "else:\n",
    "    print('Congatratulations! You have passed the examination with Distinction')"
   ]
  },
  {
   "cell_type": "code",
   "execution_count": 32,
   "metadata": {},
   "outputs": [],
   "source": [
    "# Introduction to user inputs"
   ]
  },
  {
   "cell_type": "code",
   "execution_count": 38,
   "metadata": {},
   "outputs": [
    {
     "name": "stdout",
     "output_type": "stream",
     "text": [
      "Tell me your first name, Ujwal\n",
      " Hello, Ujwal\n"
     ]
    }
   ],
   "source": [
    "message = input('Tell me your first name, ')\n",
    "print(f' Hello, {message}')"
   ]
  },
  {
   "cell_type": "code",
   "execution_count": 36,
   "metadata": {},
   "outputs": [
    {
     "name": "stdout",
     "output_type": "stream",
     "text": [
      " Hello, Ujwal\n"
     ]
    }
   ],
   "source": [
    "print(f' Hello, {message}')"
   ]
  },
  {
   "cell_type": "code",
   "execution_count": 37,
   "metadata": {},
   "outputs": [],
   "source": [
    "# Enhancement of code:"
   ]
  },
  {
   "cell_type": "code",
   "execution_count": 39,
   "metadata": {},
   "outputs": [
    {
     "name": "stdout",
     "output_type": "stream",
     "text": [
      "if you tell us who you are , we can personalise the for you\n",
      " what is your first name?Ujwal\n",
      "\n",
      " hello, Ujwal\n"
     ]
    }
   ],
   "source": [
    "\n",
    "prompt = \"if you tell us who you are , we can personalise the for you\"\n",
    "prompt += \"\\n what is your first name?\"\n",
    "\n",
    "name = input(prompt)\n",
    "\n",
    "print(f\"\\n hello, {name.title()}\")"
   ]
  },
  {
   "cell_type": "code",
   "execution_count": null,
   "metadata": {},
   "outputs": [],
   "source": []
  }
 ],
 "metadata": {
  "kernelspec": {
   "display_name": "Python 3",
   "language": "python",
   "name": "python3"
  },
  "language_info": {
   "codemirror_mode": {
    "name": "ipython",
    "version": 3
   },
   "file_extension": ".py",
   "mimetype": "text/x-python",
   "name": "python",
   "nbconvert_exporter": "python",
   "pygments_lexer": "ipython3",
   "version": "3.7.4"
  }
 },
 "nbformat": 4,
 "nbformat_minor": 2
}
