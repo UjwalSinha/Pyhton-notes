{
 "cells": [
  {
   "cell_type": "code",
   "execution_count": 1,
   "metadata": {},
   "outputs": [],
   "source": [
    "# Introdcution to classes in Python\n",
    "# Class - blue print of the high level code\n",
    "# Methods - a fun written under a class\n",
    "# attributes - A variable written inside a class\n",
    "# self - a temporary placeholder for an object\n",
    "# Object - It is also called as an instance of a class. It is the accesspoint for the class methods"
   ]
  },
  {
   "cell_type": "code",
   "execution_count": 38,
   "metadata": {},
   "outputs": [],
   "source": [
    "class Greet:\n",
    "    \"creating a class to capture user details\" #doc string\n",
    "    def createusername(self,username,location,age): #Method\n",
    "        self.username = username # attribute\n",
    "        self.location = location # attribute\n",
    "        self.age = age # attribute\n",
    "    def displayusername(self): # Method\n",
    "        print(f'{self.username}') \n",
    "        print(f'{self.location}')\n",
    "        print(f'{self.age}')\n",
    "    def greetuser(self): # Method\n",
    "        print(f' Hello, {self.username} From {self.location} whose age is {self.age}')"
   ]
  },
  {
   "cell_type": "code",
   "execution_count": 39,
   "metadata": {},
   "outputs": [],
   "source": [
    "x = Greet() # Object assignment to class"
   ]
  },
  {
   "cell_type": "code",
   "execution_count": 40,
   "metadata": {},
   "outputs": [],
   "source": [
    "x.createusername('Ujwal', 'Hyderabad', '30')"
   ]
  },
  {
   "cell_type": "code",
   "execution_count": 41,
   "metadata": {},
   "outputs": [
    {
     "name": "stdout",
     "output_type": "stream",
     "text": [
      "Ujwal\n",
      "Hyderabad\n",
      "30\n"
     ]
    }
   ],
   "source": [
    "x.displayusername()"
   ]
  },
  {
   "cell_type": "code",
   "execution_count": 42,
   "metadata": {},
   "outputs": [
    {
     "name": "stdout",
     "output_type": "stream",
     "text": [
      " Hello, Ujwal From Hyderabad whose age is 30\n"
     ]
    }
   ],
   "source": [
    "x.greetuser()"
   ]
  },
  {
   "cell_type": "code",
   "execution_count": 43,
   "metadata": {},
   "outputs": [
    {
     "name": "stdout",
     "output_type": "stream",
     "text": [
      "<class '__main__.Greet'>\n"
     ]
    }
   ],
   "source": [
    "print(Greet)"
   ]
  },
  {
   "cell_type": "code",
   "execution_count": 44,
   "metadata": {},
   "outputs": [],
   "source": [
    "# req - Build a class to appreciate and reward a student"
   ]
  },
  {
   "cell_type": "code",
   "execution_count": 53,
   "metadata": {},
   "outputs": [],
   "source": [
    "class appreciate:\n",
    "    \"creating a class to appreciate a student\" #doc string\n",
    "    def studentname(self,studentname): # Method\n",
    "        self.studentname = studentname # Attribute\n",
    "    def appreciate_student(self): # Method\n",
    "        print(f' You have done a good Job. Keep it up, {self.studentname}')\n",
    "    def reward_student(self): # Method\n",
    "        print(f' Please accept this goodie as a token of appreciation, {self.studentname}')"
   ]
  },
  {
   "cell_type": "code",
   "execution_count": 54,
   "metadata": {},
   "outputs": [],
   "source": [
    "# Assigning object to a class\n",
    "x = appreciate() # Object assigned"
   ]
  },
  {
   "cell_type": "code",
   "execution_count": 55,
   "metadata": {},
   "outputs": [],
   "source": [
    "x.studentname('ujwal') #username accepted"
   ]
  },
  {
   "cell_type": "code",
   "execution_count": 56,
   "metadata": {},
   "outputs": [
    {
     "name": "stdout",
     "output_type": "stream",
     "text": [
      " You have done a good Job. Keep it up, ujwal\n"
     ]
    }
   ],
   "source": [
    "x.appreciate_student()"
   ]
  },
  {
   "cell_type": "code",
   "execution_count": 57,
   "metadata": {},
   "outputs": [
    {
     "name": "stdout",
     "output_type": "stream",
     "text": [
      " Please accept this goodie as a token of appreciation, ujwal\n"
     ]
    }
   ],
   "source": [
    "x.reward_student()"
   ]
  },
  {
   "cell_type": "code",
   "execution_count": null,
   "metadata": {},
   "outputs": [],
   "source": []
  }
 ],
 "metadata": {
  "kernelspec": {
   "display_name": "Python 3",
   "language": "python",
   "name": "python3"
  },
  "language_info": {
   "codemirror_mode": {
    "name": "ipython",
    "version": 3
   },
   "file_extension": ".py",
   "mimetype": "text/x-python",
   "name": "python",
   "nbconvert_exporter": "python",
   "pygments_lexer": "ipython3",
   "version": "3.7.4"
  }
 },
 "nbformat": 4,
 "nbformat_minor": 2
}
