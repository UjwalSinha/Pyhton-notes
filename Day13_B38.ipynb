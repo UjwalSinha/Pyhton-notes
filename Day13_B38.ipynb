{
 "cells": [
  {
   "cell_type": "code",
   "execution_count": 1,
   "metadata": {},
   "outputs": [],
   "source": [
    "# Introduction to classes in Python\n",
    "# Class\n",
    "# Methods\n",
    "# attributes\n",
    "#self\n",
    "#Object"
   ]
  },
  {
   "cell_type": "code",
   "execution_count": 2,
   "metadata": {},
   "outputs": [],
   "source": [
    "# Class - High level blue print of a program\n",
    "# How to define a class - by using a keyword called as 'class'\n",
    "# for giving the class name we have to use title case"
   ]
  },
  {
   "cell_type": "code",
   "execution_count": 3,
   "metadata": {},
   "outputs": [],
   "source": [
    "# Methods - a 'function' written inside a class is called as 'method'.\n",
    "# Function written individually it is called as a function, \n",
    "# if it is written inside a class, it is called as Method."
   ]
  },
  {
   "cell_type": "code",
   "execution_count": 4,
   "metadata": {},
   "outputs": [],
   "source": [
    "# attributes - A variable written inside a class is called an 'attribute'."
   ]
  },
  {
   "cell_type": "code",
   "execution_count": 5,
   "metadata": {},
   "outputs": [],
   "source": [
    "# self - A self is a temporary place holder for an object."
   ]
  },
  {
   "cell_type": "code",
   "execution_count": 6,
   "metadata": {},
   "outputs": [],
   "source": [
    "# Object - It is also called as instance of a class.\n",
    "# It is an access point for the class methods."
   ]
  },
  {
   "cell_type": "code",
   "execution_count": 7,
   "metadata": {},
   "outputs": [],
   "source": [
    "# req - create a class called Greet.\n",
    "# It need to have below methods:\n",
    "\n",
    "# accept the inpt from a user --- create user \n",
    "# display the user name ---- display user\n",
    "# Greet the user ---  greet user"
   ]
  },
  {
   "cell_type": "code",
   "execution_count": 26,
   "metadata": {},
   "outputs": [],
   "source": [
    "class Greet:\n",
    "    \"creating a class for handling the users\" #doc strings\n",
    "    def createuser(self,username,age,location): #method\n",
    "        self.username = username # attribute; test.username = ''\n",
    "        self.age =age # attribute\n",
    "        self.location = location #attribute; test.location = 'Hyderabad'\n",
    "    def displayuser(self): #method\n",
    "        print(f'{self.username}')\n",
    "    def greetuser(self): #mehod\n",
    "        print(f' Hello, {self.username}')"
   ]
  },
  {
   "cell_type": "code",
   "execution_count": 21,
   "metadata": {},
   "outputs": [],
   "source": [
    "# Object assignment to class"
   ]
  },
  {
   "cell_type": "code",
   "execution_count": 22,
   "metadata": {},
   "outputs": [],
   "source": [
    "test = Greet() # object has been assigned"
   ]
  },
  {
   "cell_type": "code",
   "execution_count": 23,
   "metadata": {},
   "outputs": [],
   "source": [
    "test.createuser('john') # accepted the username"
   ]
  },
  {
   "cell_type": "code",
   "execution_count": 24,
   "metadata": {},
   "outputs": [
    {
     "name": "stdout",
     "output_type": "stream",
     "text": [
      "john\n"
     ]
    }
   ],
   "source": [
    "test.displayuser() #displayed username"
   ]
  },
  {
   "cell_type": "code",
   "execution_count": 25,
   "metadata": {},
   "outputs": [
    {
     "name": "stdout",
     "output_type": "stream",
     "text": [
      " Hello, john\n"
     ]
    }
   ],
   "source": [
    "test.greetuser() #greeting username"
   ]
  },
  {
   "cell_type": "code",
   "execution_count": 27,
   "metadata": {},
   "outputs": [],
   "source": [
    "x = Greet()"
   ]
  },
  {
   "cell_type": "code",
   "execution_count": 32,
   "metadata": {},
   "outputs": [],
   "source": [
    "x.createuser('hajera', 'hyderabad', 28)"
   ]
  },
  {
   "cell_type": "code",
   "execution_count": 30,
   "metadata": {},
   "outputs": [
    {
     "name": "stdout",
     "output_type": "stream",
     "text": [
      "hajera\n"
     ]
    }
   ],
   "source": [
    "x.displayuser()"
   ]
  },
  {
   "cell_type": "code",
   "execution_count": 31,
   "metadata": {},
   "outputs": [
    {
     "name": "stdout",
     "output_type": "stream",
     "text": [
      " Hello, hajera\n"
     ]
    }
   ],
   "source": [
    "x.greetuser()"
   ]
  },
  {
   "cell_type": "code",
   "execution_count": 33,
   "metadata": {},
   "outputs": [
    {
     "name": "stdout",
     "output_type": "stream",
     "text": [
      "<class '__main__.Greet'>\n"
     ]
    }
   ],
   "source": [
    "print(Greet)"
   ]
  },
  {
   "cell_type": "code",
   "execution_count": null,
   "metadata": {},
   "outputs": [],
   "source": []
  }
 ],
 "metadata": {
  "kernelspec": {
   "display_name": "Python 3",
   "language": "python",
   "name": "python3"
  },
  "language_info": {
   "codemirror_mode": {
    "name": "ipython",
    "version": 3
   },
   "file_extension": ".py",
   "mimetype": "text/x-python",
   "name": "python",
   "nbconvert_exporter": "python",
   "pygments_lexer": "ipython3",
   "version": "3.7.4"
  }
 },
 "nbformat": 4,
 "nbformat_minor": 2
}
