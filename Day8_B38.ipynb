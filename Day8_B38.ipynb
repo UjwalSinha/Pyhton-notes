{
 "cells": [
  {
   "cell_type": "code",
   "execution_count": 1,
   "metadata": {},
   "outputs": [
    {
     "name": "stdout",
     "output_type": "stream",
     "text": [
      "{'ujwal': 30, 'rishika': 32, 'prakash': 24, 'Disha': 'two'}\n"
     ]
    }
   ],
   "source": [
    "mydictionary = {'ujwal':30, 'rishika':32, 'prakash': 24, 'Disha':'two'}\n",
    "print(mydictionary)"
   ]
  },
  {
   "cell_type": "code",
   "execution_count": 3,
   "metadata": {},
   "outputs": [
    {
     "name": "stdout",
     "output_type": "stream",
     "text": [
      "{'ujwal': 30, 'rishika': 32, 'prakash': 24, 'Disha': 'two', 'reetha': 'fifty_four'}\n"
     ]
    }
   ],
   "source": [
    "mydictionary['reetha'] = 'fifty_four' # Addition of keys and values\n",
    "print(mydictionary)"
   ]
  },
  {
   "cell_type": "code",
   "execution_count": 4,
   "metadata": {},
   "outputs": [
    {
     "name": "stdout",
     "output_type": "stream",
     "text": [
      "{'ujwal': 30, 'rishika': 32, 'prakash': 24, 'Disha': 'two', 'reetha': 'fifty_four', 'santosh': 61}\n"
     ]
    }
   ],
   "source": [
    "mydictionary['santosh'] = 61 # Addition of Keys and values\n",
    "print(mydictionary)"
   ]
  },
  {
   "cell_type": "code",
   "execution_count": 6,
   "metadata": {},
   "outputs": [
    {
     "name": "stdout",
     "output_type": "stream",
     "text": [
      "{'ujwal': 30, 'rishika': 32, 'prakash': 24, 'Disha': 'two', 'reetha': 'fifty_four', 'santosh': 61, 'misc': 0}\n"
     ]
    }
   ],
   "source": [
    "mydictionary['misc'] = 0 #Addition of keys and values\n",
    "print(mydictionary)"
   ]
  },
  {
   "cell_type": "code",
   "execution_count": 7,
   "metadata": {},
   "outputs": [],
   "source": [
    "mydictionary['misc'] = 1000 #Modification of keys and values"
   ]
  },
  {
   "cell_type": "code",
   "execution_count": 8,
   "metadata": {},
   "outputs": [
    {
     "name": "stdout",
     "output_type": "stream",
     "text": [
      "{'ujwal': 30, 'rishika': 32, 'prakash': 24, 'Disha': 'two', 'reetha': 'fifty_four', 'santosh': 61, 'misc': 1000}\n"
     ]
    }
   ],
   "source": [
    "print(mydictionary)"
   ]
  },
  {
   "cell_type": "code",
   "execution_count": 9,
   "metadata": {},
   "outputs": [
    {
     "name": "stdout",
     "output_type": "stream",
     "text": [
      "{'ujwal': 30, 'rishika': 32, 'prakash': 24, 'Disha': 'two', 'reetha': 'fifty_four', 'santosh': 61}\n"
     ]
    }
   ],
   "source": [
    "del mydictionary['misc'] #Deletion of keys and values\n",
    "print(mydictionary)"
   ]
  },
  {
   "cell_type": "code",
   "execution_count": 17,
   "metadata": {},
   "outputs": [
    {
     "name": "stdout",
     "output_type": "stream",
     "text": [
      " key - ujwal\n",
      " values - 30\n",
      " key - rishika\n",
      " values - 32\n",
      " key - prakash\n",
      " values - 24\n",
      " key - Disha\n",
      " values - two\n",
      " key - reetha\n",
      " values - fifty_four\n",
      " key - santosh\n",
      " values - 61\n"
     ]
    }
   ],
   "source": [
    "for x,y in mydictionary.items(): # For loop using f'string\n",
    "    print(f' key - {x}')\n",
    "    print(f' values - {y}')"
   ]
  },
  {
   "cell_type": "code",
   "execution_count": 22,
   "metadata": {},
   "outputs": [
    {
     "name": "stdout",
     "output_type": "stream",
     "text": [
      "ujwal\n",
      "rishika\n",
      "prakash\n",
      "Disha\n",
      "reetha\n",
      "santosh\n"
     ]
    }
   ],
   "source": [
    "for k,v in mydictionary.items(): # Print only keys, #\n",
    "    print(k)"
   ]
  },
  {
   "cell_type": "code",
   "execution_count": 23,
   "metadata": {},
   "outputs": [
    {
     "name": "stdout",
     "output_type": "stream",
     "text": [
      "30\n",
      "32\n",
      "24\n",
      "two\n",
      "fifty_four\n",
      "61\n"
     ]
    }
   ],
   "source": [
    "for k,v in mydictionary.items(): # Print only values\n",
    "    print(v)"
   ]
  },
  {
   "cell_type": "code",
   "execution_count": null,
   "metadata": {},
   "outputs": [],
   "source": []
  }
 ],
 "metadata": {
  "kernelspec": {
   "display_name": "Python 3",
   "language": "python",
   "name": "python3"
  },
  "language_info": {
   "codemirror_mode": {
    "name": "ipython",
    "version": 3
   },
   "file_extension": ".py",
   "mimetype": "text/x-python",
   "name": "python",
   "nbconvert_exporter": "python",
   "pygments_lexer": "ipython3",
   "version": "3.7.4"
  }
 },
 "nbformat": 4,
 "nbformat_minor": 2
}
