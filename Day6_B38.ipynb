{
 "cells": [
  {
   "cell_type": "code",
   "execution_count": 2,
   "metadata": {},
   "outputs": [
    {
     "name": "stdout",
     "output_type": "stream",
     "text": [
      "['ujwal', 'prakash', 'rishika', 'disha', 'reetha', 'santosh']\n"
     ]
    }
   ],
   "source": [
    "students = ['ujwal', 'prakash', 'rishika', 'disha', 'reetha', 'santosh']\n",
    "print(students)"
   ]
  },
  {
   "cell_type": "code",
   "execution_count": null,
   "metadata": {},
   "outputs": [],
   "source": []
  },
  {
   "cell_type": "code",
   "execution_count": 3,
   "metadata": {},
   "outputs": [],
   "source": [
    "#req - I want to appreciate all the students in the list"
   ]
  },
  {
   "cell_type": "code",
   "execution_count": 6,
   "metadata": {},
   "outputs": [
    {
     "name": "stdout",
     "output_type": "stream",
     "text": [
      " Keep up the good work, Ujwal\n"
     ]
    }
   ],
   "source": [
    "print(f' Keep up the good work, {students[0].title()}')"
   ]
  },
  {
   "cell_type": "code",
   "execution_count": 9,
   "metadata": {},
   "outputs": [],
   "source": [
    "# General syntax of for loop\n",
    "# for tempvariable in mainvariable:\n",
    "#    print(tempvariable)\n",
    "# tempvariable - It can be any name in the list, x, y, ...\n",
    "#gap is called as indentation"
   ]
  },
  {
   "cell_type": "code",
   "execution_count": 11,
   "metadata": {},
   "outputs": [
    {
     "name": "stdout",
     "output_type": "stream",
     "text": [
      "Keep up the good work, Ujwal\n",
      "Keep up the good work, Prakash\n",
      "Keep up the good work, Rishika\n",
      "Keep up the good work, Disha\n",
      "Keep up the good work, Reetha\n",
      "Keep up the good work, Santosh\n"
     ]
    }
   ],
   "source": [
    "for z in students:\n",
    "    print(f'Keep up the good work, {z.title()}')"
   ]
  },
  {
   "cell_type": "code",
   "execution_count": 12,
   "metadata": {},
   "outputs": [],
   "source": [
    "# Enhancement of the code:\n",
    "# Writing in the loop"
   ]
  },
  {
   "cell_type": "code",
   "execution_count": 28,
   "metadata": {},
   "outputs": [
    {
     "name": "stdout",
     "output_type": "stream",
     "text": [
      "Keep up the good work, Ujwal\n",
      "will be looking forward to receive the practice notes,Ujwal.\n",
      "\t\n",
      "Keep up the good work, Prakash\n",
      "will be looking forward to receive the practice notes,Prakash.\n",
      "\t\n",
      "Keep up the good work, Rishika\n",
      "will be looking forward to receive the practice notes,Rishika.\n",
      "\t\n",
      "Keep up the good work, Disha\n",
      "will be looking forward to receive the practice notes,Disha.\n",
      "\t\n",
      "Keep up the good work, Reetha\n",
      "will be looking forward to receive the practice notes,Reetha.\n",
      "\t\n",
      "Keep up the good work, Santosh\n",
      "will be looking forward to receive the practice notes,Santosh.\n",
      "\t\n"
     ]
    }
   ],
   "source": [
    "for z in students:\n",
    "    print(f'Keep up the good work, {z.title()}')\n",
    "    print (f'will be looking forward to receive the practice notes,{z.title()}.\\n')"
   ]
  },
  {
   "cell_type": "code",
   "execution_count": 17,
   "metadata": {},
   "outputs": [],
   "source": [
    "# Enhancement of the code:\n",
    "# Writing out of the loop....."
   ]
  },
  {
   "cell_type": "code",
   "execution_count": 34,
   "metadata": {},
   "outputs": [
    {
     "name": "stdout",
     "output_type": "stream",
     "text": [
      "Keep up the good work, Ujwal\n",
      "will be looking forward to receive the practice notes,Ujwal\n",
      "Keep up the good work, Prakash\n",
      "will be looking forward to receive the practice notes,Prakash\n",
      "Keep up the good work, Rishika\n",
      "will be looking forward to receive the practice notes,Rishika\n",
      "Keep up the good work, Disha\n",
      "will be looking forward to receive the practice notes,Disha\n",
      "Keep up the good work, Reetha\n",
      "will be looking forward to receive the practice notes,Reetha\n",
      "Keep up the good work, Santosh\n",
      "will be looking forward to receive the practice notes,Santosh\n",
      "Thanks for showing interest in learning Python\n"
     ]
    }
   ],
   "source": [
    "for z in students:\n",
    "    print(f'Keep up the good work, {z.title()}')\n",
    "    print (f'will be looking forward to receive the practice notes,{z.title()}')\n",
    "print('Thanks for showing interest in learning Python')"
   ]
  },
  {
   "cell_type": "code",
   "execution_count": 24,
   "metadata": {},
   "outputs": [],
   "source": [
    "# Interview question - We have to give indentation in a for loop..."
   ]
  },
  {
   "cell_type": "code",
   "execution_count": 25,
   "metadata": {},
   "outputs": [],
   "source": [
    "# Intro to conditional statements\n",
    "# overview: the outcome of the program is dependent on certain condition that we are going to validate\n",
    "# If else conditions"
   ]
  },
  {
   "cell_type": "code",
   "execution_count": null,
   "metadata": {},
   "outputs": [],
   "source": []
  }
 ],
 "metadata": {
  "kernelspec": {
   "display_name": "Python 3",
   "language": "python",
   "name": "python3"
  },
  "language_info": {
   "codemirror_mode": {
    "name": "ipython",
    "version": 3
   },
   "file_extension": ".py",
   "mimetype": "text/x-python",
   "name": "python",
   "nbconvert_exporter": "python",
   "pygments_lexer": "ipython3",
   "version": "3.7.4"
  }
 },
 "nbformat": 4,
 "nbformat_minor": 2
}
